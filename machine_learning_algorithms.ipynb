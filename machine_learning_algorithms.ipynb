{
  "nbformat": 4,
  "nbformat_minor": 0,
  "metadata": {
    "colab": {
      "provenance": [],
      "toc_visible": true,
      "authorship_tag": "ABX9TyOugPh8MfQ/Ox7tW+0yY/or",
      "include_colab_link": true
    },
    "kernelspec": {
      "name": "python3",
      "display_name": "Python 3"
    },
    "language_info": {
      "name": "python"
    }
  },
  "cells": [
    {
      "cell_type": "markdown",
      "metadata": {
        "id": "view-in-github",
        "colab_type": "text"
      },
      "source": [
        "<a href=\"https://colab.research.google.com/github/MubashirMustafa/deep-learning/blob/main/machine_learning_algorithms.ipynb\" target=\"_parent\"><img src=\"https://colab.research.google.com/assets/colab-badge.svg\" alt=\"Open In Colab\"/></a>"
      ]
    },
    {
      "cell_type": "code",
      "execution_count": 1,
      "metadata": {
        "colab": {
          "base_uri": "https://localhost:8080/"
        },
        "id": "X9LBUxuG2ISC",
        "outputId": "b9e8eb7e-df01-4587-f0e7-ebfcf11c48d1"
      },
      "outputs": [
        {
          "output_type": "stream",
          "name": "stdout",
          "text": [
            "Optimal value: 22.0\n",
            "Optimal solution: [10. -3.]\n"
          ]
        }
      ],
      "source": [
        "from scipy.optimize import linprog\n",
        "\n",
        "# Objective function coefficients\n",
        "c = [-1, 4]\n",
        "\n",
        "# Coefficients of inequality constraints\n",
        "A = [[-3, 1], [1, 2]]\n",
        "b = [6, 4]\n",
        "\n",
        "# Bounds for variables\n",
        "x0_bounds = (None, None)\n",
        "x1_bounds = (-3, None)\n",
        "\n",
        "# Solve linear programming problem\n",
        "res = linprog(c, A_ub=A, b_ub=b, bounds=[x0_bounds, x1_bounds], method='highs')\n",
        "\n",
        "if res.success:\n",
        "    print('Optimal value:', -res.fun)  # Minimization, so negate to get the maximum\n",
        "    print('Optimal solution:', res.x)\n",
        "else:\n",
        "    print('No solution found.')\n"
      ]
    },
    {
      "cell_type": "code",
      "source": [],
      "metadata": {
        "id": "mF5r8ZM92n7G"
      },
      "execution_count": null,
      "outputs": []
    }
  ]
}