{
  "nbformat": 4,
  "nbformat_minor": 0,
  "metadata": {
    "colab": {
      "provenance": [],
      "authorship_tag": "ABX9TyP1S1+UzPYnMI6sLGpGarTl",
      "include_colab_link": true
    },
    "kernelspec": {
      "name": "python3",
      "display_name": "Python 3"
    },
    "language_info": {
      "name": "python"
    }
  },
  "cells": [
    {
      "cell_type": "markdown",
      "metadata": {
        "id": "view-in-github",
        "colab_type": "text"
      },
      "source": [
        "<a href=\"https://colab.research.google.com/github/MubashirMustafa/deep-learning/blob/main/linear_problem.ipynb\" target=\"_parent\"><img src=\"https://colab.research.google.com/assets/colab-badge.svg\" alt=\"Open In Colab\"/></a>"
      ]
    },
    {
      "cell_type": "code",
      "execution_count": 1,
      "metadata": {
        "id": "Qjgk-FOGEMKz"
      },
      "outputs": [],
      "source": [
        "# ! pip install pulp"
      ]
    },
    {
      "cell_type": "code",
      "source": [
        "import pulp"
      ],
      "metadata": {
        "id": "BG5IkwC3ET6B"
      },
      "execution_count": 2,
      "outputs": []
    },
    {
      "cell_type": "markdown",
      "source": [
        "MAXIMIZE_RESULT = 5x + 3y + 2z\n",
        "\n",
        "CONSTRAINTS\n",
        "\n",
        "2x + y + 2z <= 20\n",
        "4x -2y + 3z >= 10\n",
        "x + 2y - z = 5\n",
        "x,y,z >= 0"
      ],
      "metadata": {
        "id": "ks1j_DucE70k"
      }
    },
    {
      "cell_type": "code",
      "source": [
        "# Define Varibles\n",
        "\n",
        "X = pulp.LpVariable('x',lowBound=0,cat=\"Integer\")\n",
        "Y = pulp.LpVariable('y',lowBound=0,cat=\"Integer\")\n",
        "Z = pulp.LpVariable('z',lowBound=0,cat=\"Integer\")"
      ],
      "metadata": {
        "id": "1z7j09b4Eqly"
      },
      "execution_count": 3,
      "outputs": []
    },
    {
      "cell_type": "code",
      "source": [
        "MODEL = pulp.LpProblem(name=\"linear_solve\", sense=pulp.LpMaximize)"
      ],
      "metadata": {
        "id": "3uwUzVg_HOZW"
      },
      "execution_count": 4,
      "outputs": []
    },
    {
      "cell_type": "code",
      "source": [
        "MODEL += 5*X + 3*Y + 2*Z  # Objective Function\n",
        "#Constraints\n",
        "MODEL += 2*X + Y + 2*Z <= 20\n",
        "MODEL += 4*X - 2*Y + 3*Z >= 10\n",
        "MODEL += X + 2*Y -Z == 5\n",
        "# MODEL += X,Y,Z >=0"
      ],
      "metadata": {
        "id": "h5RaVZTQGQQ4"
      },
      "execution_count": 5,
      "outputs": []
    },
    {
      "cell_type": "code",
      "source": [
        "print(MODEL)"
      ],
      "metadata": {
        "colab": {
          "base_uri": "https://localhost:8080/"
        },
        "id": "shs5NBKuHGld",
        "outputId": "e71ec706-e75f-4f9b-e1f4-4656839653cd"
      },
      "execution_count": 6,
      "outputs": [
        {
          "output_type": "stream",
          "name": "stdout",
          "text": [
            "linear_solve:\n",
            "MAXIMIZE\n",
            "5*x + 3*y + 2*z + 0\n",
            "SUBJECT TO\n",
            "_C1: 2 x + y + 2 z <= 20\n",
            "\n",
            "_C2: 4 x - 2 y + 3 z >= 10\n",
            "\n",
            "_C3: x + 2 y - z = 5\n",
            "\n",
            "VARIABLES\n",
            "0 <= x Integer\n",
            "0 <= y Integer\n",
            "0 <= z Integer\n",
            "\n"
          ]
        }
      ]
    },
    {
      "cell_type": "code",
      "source": [
        "MODEL.solve()"
      ],
      "metadata": {
        "colab": {
          "base_uri": "https://localhost:8080/"
        },
        "id": "Yrl58ywIH8uP",
        "outputId": "5c5964b3-cfe9-40ee-e1bf-f0566b29a5ec"
      },
      "execution_count": 7,
      "outputs": [
        {
          "output_type": "execute_result",
          "data": {
            "text/plain": [
              "1"
            ]
          },
          "metadata": {},
          "execution_count": 7
        }
      ]
    },
    {
      "cell_type": "code",
      "source": [
        "pulp.LpStatus[MODEL.status]"
      ],
      "metadata": {
        "colab": {
          "base_uri": "https://localhost:8080/",
          "height": 36
        },
        "id": "bVvkR_3nIdoj",
        "outputId": "0c4c1a59-444a-4fa0-ab91-ec4507fc6e1e"
      },
      "execution_count": 8,
      "outputs": [
        {
          "output_type": "execute_result",
          "data": {
            "text/plain": [
              "'Optimal'"
            ],
            "application/vnd.google.colaboratory.intrinsic+json": {
              "type": "string"
            }
          },
          "metadata": {},
          "execution_count": 8
        }
      ]
    },
    {
      "cell_type": "code",
      "source": [],
      "metadata": {
        "id": "Tr7nxRYHLuv2"
      },
      "execution_count": null,
      "outputs": []
    }
  ]
}